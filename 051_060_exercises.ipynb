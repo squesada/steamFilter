{
  "nbformat": 4,
  "nbformat_minor": 0,
  "metadata": {
    "colab": {
      "name": "051-060_exercises.ipynb",
      "provenance": [],
      "collapsed_sections": [],
      "include_colab_link": true
    },
    "kernelspec": {
      "name": "python3",
      "display_name": "Python 3"
    }
  },
  "cells": [
    {
      "cell_type": "markdown",
      "metadata": {
        "id": "view-in-github",
        "colab_type": "text"
      },
      "source": [
        "<a href=\"https://colab.research.google.com/github/squesada/steamFilter/blob/master/051_060_exercises.ipynb\" target=\"_parent\"><img src=\"https://colab.research.google.com/assets/colab-badge.svg\" alt=\"Open In Colab\"/></a>"
      ]
    },
    {
      "cell_type": "markdown",
      "metadata": {
        "id": "WLEgCW5F1hho"
      },
      "source": [
        "## Numpy\n",
        "\n",
        "### Table of contents:\n",
        "* [Import biblioteki](#0)\n",
        "* [Exercise 51](#1)\n",
        "* [Exercise 52](#2)\n",
        "* [Exercise 53](#3)\n",
        "* [Exercise 54](#4)\n",
        "* [Exercise 55](#5)\n",
        "* [Exercise 56](#6)\n",
        "* [Exercise 57](#7)\n",
        "* [Exercise 58](#8)\n",
        "* [Exercise 59](#9)\n",
        "* [Exercise 60](#10)"
      ]
    },
    {
      "cell_type": "markdown",
      "metadata": {
        "id": "zeLOLmTj1kBM"
      },
      "source": [
        "### <a name='0'></a> Import of libraries"
      ]
    },
    {
      "cell_type": "code",
      "metadata": {
        "id": "HXMB7SMe1Wnz",
        "colab": {
          "base_uri": "https://localhost:8080/",
          "height": 35
        },
        "outputId": "03649f92-3b47-4101-b32c-daf91b226fe0"
      },
      "source": [
        "import numpy as np\n",
        "\n",
        "np.__version__"
      ],
      "execution_count": 1,
      "outputs": [
        {
          "output_type": "execute_result",
          "data": {
            "application/vnd.google.colaboratory.intrinsic+json": {
              "type": "string"
            },
            "text/plain": [
              "'1.19.5'"
            ]
          },
          "metadata": {},
          "execution_count": 1
        }
      ]
    },
    {
      "cell_type": "markdown",
      "metadata": {
        "id": "cyc70pMe1oCg"
      },
      "source": [
        "### <a name='1'></a> Exercise 51\n",
        "Two arrays $ A $ and $ B $ are given below:\n",
        "\n",
        "```\n",
        "A = np.array([[3, 4, 5],\n",
        "              [8, 3, 1]])\n",
        "B = np.array([[0, 5, 2],\n",
        "              [4, 2, 1]])\n",
        "```\n",
        "* Concatenate these arrays as follows:\n",
        "\n",
        "```\n",
        "array([[3, 4, 5],\n",
        "       [8, 3, 1],\n",
        "       [0, 5, 2],\n",
        "       [4, 2, 1]])\n",
        "```\n",
        "\n",
        "__Tip:__ Use the _np.concatenate()_ function."
      ]
    },
    {
      "cell_type": "code",
      "metadata": {
        "id": "5MXU6p-oTHHs",
        "colab": {
          "base_uri": "https://localhost:8080/"
        },
        "outputId": "60ad098f-7af3-4fce-a2b9-433edb55aab4"
      },
      "source": [
        "A = np.array([[3, 4, 5],\n",
        "              [8, 3, 1]])\n",
        "B = np.array([[0, 5, 2],\n",
        "              [4, 2, 1]])\n",
        "\n",
        "np.concatenate((A,B))"
      ],
      "execution_count": 2,
      "outputs": [
        {
          "output_type": "execute_result",
          "data": {
            "text/plain": [
              "array([[3, 4, 5],\n",
              "       [8, 3, 1],\n",
              "       [0, 5, 2],\n",
              "       [4, 2, 1]])"
            ]
          },
          "metadata": {},
          "execution_count": 2
        }
      ]
    },
    {
      "cell_type": "markdown",
      "metadata": {
        "id": "G1YmiO8PTO3g"
      },
      "source": [
        "* Concatenate these arrays as follows:\n",
        "\n",
        "```\n",
        "array([[3, 4, 5, 0, 5, 2],\n",
        "       [8, 3, 1, 4, 2, 1]])\n",
        "```\n",
        "__Tip:__ Use the _np.concatenate()_ function."
      ]
    },
    {
      "cell_type": "code",
      "metadata": {
        "id": "0cnB_nezTTxN",
        "colab": {
          "base_uri": "https://localhost:8080/"
        },
        "outputId": "3d268aa4-740d-4ed3-d139-620ec99084e7"
      },
      "source": [
        "A = np.array([[3, 4, 5],\n",
        "              [8, 3, 1]])\n",
        "B = np.array([[0, 5, 2],\n",
        "              [4, 2, 1]])\n",
        "\n",
        "np.concatenate((A,B),axis=1)"
      ],
      "execution_count": 4,
      "outputs": [
        {
          "output_type": "execute_result",
          "data": {
            "text/plain": [
              "array([[3, 4, 5, 0, 5, 2],\n",
              "       [8, 3, 1, 4, 2, 1]])"
            ]
          },
          "metadata": {},
          "execution_count": 4
        }
      ]
    },
    {
      "cell_type": "markdown",
      "metadata": {
        "id": "J9pY1rtr1sC0"
      },
      "source": [
        "### <a name='2'></a> Exercise 52\n",
        "The first array is given containing the data (_data_) and the second array containing the target class (_target_) for the given row:\n",
        "\n",
        "```\n",
        "data = np.array([[4.3, 4.2],\n",
        "                 [3.1, 3.6]])\n",
        "target = np.array([[0],\n",
        "                   [1]])\n",
        "```"
      ]
    },
    {
      "cell_type": "markdown",
      "metadata": {
        "id": "ymdZWtG_TnS8"
      },
      "source": [
        "Concatenate these arrays into one as shown below:\n",
        "\n",
        "```\n",
        "array([[4.3, 4.2, 0. ],\n",
        "       [3.1, 3.6, 1. ]])\n",
        "```"
      ]
    },
    {
      "cell_type": "code",
      "metadata": {
        "id": "yjMRep8ATq4C",
        "colab": {
          "base_uri": "https://localhost:8080/"
        },
        "outputId": "17c44cc1-f5e4-4252-e8e4-17ebeb031799"
      },
      "source": [
        "data = np.array([[4.3, 4.2],\n",
        "                 [3.1, 3.6]])\n",
        "target = np.array([[0],\n",
        "                   [1]])\n",
        "\n",
        "np.concatenate((data, target),axis=1)"
      ],
      "execution_count": 7,
      "outputs": [
        {
          "output_type": "execute_result",
          "data": {
            "text/plain": [
              "array([[4.3, 4.2, 0. ],\n",
              "       [3.1, 3.6, 1. ]])"
            ]
          },
          "metadata": {},
          "execution_count": 7
        }
      ]
    },
    {
      "cell_type": "markdown",
      "metadata": {
        "id": "XQLYT2m11wVG"
      },
      "source": [
        "### <a name='3'></a> Exercise 53\n",
        "The following three one-dimensional arrays are given:\n",
        "```\n",
        "feature1 = np.array([1.6, 0.9, 2.2])\n",
        "feature2 = np.array([0.4, 1.3, 3.2])\n",
        "feature3 = np.array([1.4, 0.3, 1.2])\n",
        "```\n",
        "Transform each of these arrays into a column and concatenate them into one large array.\n",
        "\n",
        "__Expected result:__\n",
        "```\n",
        "array([[1.6, 0.4, 1.4],\n",
        "       [0.9, 1.3, 0.3],\n",
        "       [2.2, 3.2, 1.2]])\n",
        "```\n",
        "__Tip:__ Use the function _np.column_stack()_.\n"
      ]
    },
    {
      "cell_type": "code",
      "metadata": {
        "id": "F83u7wvHT7au",
        "colab": {
          "base_uri": "https://localhost:8080/"
        },
        "outputId": "052152cf-01b4-4cd7-fb1f-ffe9fa428e30"
      },
      "source": [
        "feature1 = np.array([1.6, 0.9, 2.2])\n",
        "feature2 = np.array([0.4, 1.3, 3.2])\n",
        "feature3 = np.array([1.4, 0.3, 1.2])\n",
        "\n",
        "np.column_stack((feature1,feature2,feature3))"
      ],
      "execution_count": 9,
      "outputs": [
        {
          "output_type": "execute_result",
          "data": {
            "text/plain": [
              "array([[1.6, 0.4, 1.4],\n",
              "       [0.9, 1.3, 0.3],\n",
              "       [2.2, 3.2, 1.2]])"
            ]
          },
          "metadata": {},
          "execution_count": 9
        }
      ]
    },
    {
      "cell_type": "markdown",
      "metadata": {
        "id": "4xTKSUzg10MK"
      },
      "source": [
        "### <a name='4'></a> Exercise 54\n",
        "The following two-dimensional array is given:\n",
        "```\n",
        "A = np.random.randint(low=0, high=7, size=(5, 8))\n",
        "A[:, :2] = 0\n",
        "A[:, -2:] = 1\n",
        "A\n",
        "```\n",
        "```\n",
        "array([[0, 0, 4, 6, 2, 4, 1, 1],\n",
        "       [0, 0, 6, 2, 2, 4, 1, 1],\n",
        "       [0, 0, 1, 3, 5, 5, 1, 1],\n",
        "       [0, 0, 3, 1, 5, 4, 1, 1],\n",
        "       [0, 0, 2, 6, 1, 3, 1, 1]])\n",
        "```\n",
        "Split an array into three parts so that the first two columns formed the first array $ A1 $, four consecutive second array $ A2 $ and the last two third array $ A3 $.\n",
        "\n",
        "__Tip:__ Use the function _np.split()_."
      ]
    },
    {
      "cell_type": "code",
      "metadata": {
        "id": "zXtgBT1sUZjf",
        "colab": {
          "base_uri": "https://localhost:8080/"
        },
        "outputId": "340eb424-43da-4f19-ff45-a48a30f2090d"
      },
      "source": [
        "A = np.random.randint(low=0, high=7, size=(5, 8))\n",
        "A[:, :2] = 0\n",
        "A[:, -2:] = 1\n",
        "A"
      ],
      "execution_count": 21,
      "outputs": [
        {
          "output_type": "execute_result",
          "data": {
            "text/plain": [
              "array([[0, 0, 5, 4, 4, 6, 1, 1],\n",
              "       [0, 0, 1, 1, 6, 5, 1, 1],\n",
              "       [0, 0, 3, 4, 6, 3, 1, 1],\n",
              "       [0, 0, 5, 1, 3, 4, 1, 1],\n",
              "       [0, 0, 2, 5, 4, 5, 1, 1]])"
            ]
          },
          "metadata": {},
          "execution_count": 21
        }
      ]
    },
    {
      "cell_type": "code",
      "metadata": {
        "colab": {
          "base_uri": "https://localhost:8080/"
        },
        "id": "qBh5SaUxNdPH",
        "outputId": "71dd6813-8213-44c2-aa87-50c14aef2d95"
      },
      "source": [
        "A1, A2, A3= np.split(A,[2,6],axis=1)\n",
        "print(A1)\n",
        "print(A2)\n",
        "print(A3)"
      ],
      "execution_count": 30,
      "outputs": [
        {
          "output_type": "stream",
          "name": "stdout",
          "text": [
            "[[0 0]\n",
            " [0 0]\n",
            " [0 0]\n",
            " [0 0]\n",
            " [0 0]]\n",
            "[[5 4 4 6]\n",
            " [1 1 6 5]\n",
            " [3 4 6 3]\n",
            " [5 1 3 4]\n",
            " [2 5 4 5]]\n",
            "[[1 1]\n",
            " [1 1]\n",
            " [1 1]\n",
            " [1 1]\n",
            " [1 1]]\n"
          ]
        }
      ]
    },
    {
      "cell_type": "markdown",
      "metadata": {
        "id": "o3HKIKlP15Ro"
      },
      "source": [
        "### <a name='5'></a> Exercise 55\n",
        "The following numpy array $ A $ is given:\n",
        "\n",
        "```\n",
        "A = np.random.randint(low=0, high=2, size=(10, 6))\n",
        "```\n",
        "\n",
        "Calculate the total number of non-zero elements for this array.\n",
        "\n",
        "__Tip:__ Use the function _np.count_nonzero()_.\n"
      ]
    },
    {
      "cell_type": "code",
      "metadata": {
        "id": "cPCsc8WHU32T",
        "colab": {
          "base_uri": "https://localhost:8080/"
        },
        "outputId": "968ca771-fc1a-446a-e5e4-0344242e56cd"
      },
      "source": [
        "A = np.random.randint(low=0, high=2, size=(10, 6))\n",
        "np.count_nonzero(A)"
      ],
      "execution_count": 31,
      "outputs": [
        {
          "output_type": "execute_result",
          "data": {
            "text/plain": [
              "28"
            ]
          },
          "metadata": {},
          "execution_count": 31
        }
      ]
    },
    {
      "cell_type": "markdown",
      "metadata": {
        "id": "gYdn5cJqU9vh"
      },
      "source": [
        "Calculate the total number of non-zero elements for each row in this array.\n",
        "\n",
        "__Tip:__ Use the function _np.count_nonzero()_."
      ]
    },
    {
      "cell_type": "code",
      "metadata": {
        "id": "RXEd8gyGVBgC",
        "colab": {
          "base_uri": "https://localhost:8080/"
        },
        "outputId": "cb716bc1-f63f-4501-a860-5cac0bced69d"
      },
      "source": [
        "A = np.random.randint(low=0, high=2, size=(10, 6))\n",
        "np.count_nonzero(A,axis=1)"
      ],
      "execution_count": 32,
      "outputs": [
        {
          "output_type": "execute_result",
          "data": {
            "text/plain": [
              "array([4, 4, 3, 4, 3, 1, 1, 4, 3, 2])"
            ]
          },
          "metadata": {},
          "execution_count": 32
        }
      ]
    },
    {
      "cell_type": "markdown",
      "metadata": {
        "id": "PunXd_Ey16so"
      },
      "source": [
        "### <a name='6'></a> Exercise 56\n",
        "An example numpy array $ A $ is given below:\n",
        "\n",
        "```\n",
        "A = np.random.randn(10, 4)\n",
        "```\n",
        "\n",
        "```\n",
        "array([[-0.53441645, -1.49505387, -0.78925833,  0.74371128],\n",
        "       [-0.21216142, -0.42686879,  0.50144833,  1.15818665],\n",
        "       [ 0.25711687,  0.3145129 ,  1.37186213,  0.17555329],\n",
        "       [-0.30928855,  0.6731255 , -0.25663018, -0.36782572],\n",
        "       [ 1.27373362, -0.29195267, -2.65517605,  0.34551794],\n",
        "       [-0.39551645, -0.28913686,  0.45293633, -0.16606091],\n",
        "       [ 0.21493883, -2.02231493, -0.94305681,  1.40395874],\n",
        "       [-0.0185508 , -1.67350462, -1.07253183, -0.99258618],\n",
        "       [ 0.10234768, -0.43260928, -0.6591823 ,  0.0039373 ],\n",
        "       [ 0.4777541 , -0.25902864, -0.57470921, -0.42149822]])\n",
        "```\n",
        "\n",
        "Set the numpy library option to print arrays with specified precision. Set its value to 4 and print the $ A $ array."
      ]
    },
    {
      "cell_type": "code",
      "metadata": {
        "id": "lzoi6hKSVMNf",
        "colab": {
          "base_uri": "https://localhost:8080/"
        },
        "outputId": "cf4ef1fc-a7bc-471b-fc17-249cbcc95b90"
      },
      "source": [
        "A = np.random.randn(10, 4)\n",
        "np.set_printoptions(precision=4)\n",
        "A"
      ],
      "execution_count": 33,
      "outputs": [
        {
          "output_type": "execute_result",
          "data": {
            "text/plain": [
              "array([[ 1.2477, -1.1263, -0.422 ,  1.3201],\n",
              "       [ 0.1843, -0.6042,  0.6953, -1.6177],\n",
              "       [-1.2181,  0.011 ,  0.3233,  0.6736],\n",
              "       [ 0.1924, -0.5134,  2.8962,  1.6338],\n",
              "       [-0.3573, -0.5656, -0.3713, -1.7371],\n",
              "       [ 0.1891, -0.1346,  0.4209, -0.0423],\n",
              "       [ 1.3717,  1.9656, -0.8924,  1.2208],\n",
              "       [ 0.2814,  2.1133, -0.3471,  1.0726],\n",
              "       [-1.1213,  0.0439,  0.9204, -1.0924],\n",
              "       [ 1.0911, -0.159 ,  1.5647,  1.2167]])"
            ]
          },
          "metadata": {},
          "execution_count": 33
        }
      ]
    },
    {
      "cell_type": "markdown",
      "metadata": {
        "id": "hOhqDRz618Tx"
      },
      "source": [
        "### <a name='7'></a> Exercise 57\n",
        "\n",
        "The following numpy array $ A $ is given:\n",
        "\n",
        "```\n",
        "A = np.array([1.2e-6, 1.7e-7])\n",
        "```\n",
        "Set the precision value to 8. Then set the appropriate numpy library option to suppress mathematical notation. Print the array $ A $.\n",
        "\n",
        "__Expected result:__\n",
        "```\n",
        "array([0.0000012 , 0.00000017])\n",
        "```\n"
      ]
    },
    {
      "cell_type": "code",
      "metadata": {
        "id": "QnUM5k9rVYdu",
        "colab": {
          "base_uri": "https://localhost:8080/"
        },
        "outputId": "ba36b23e-4586-4035-c21b-4618ef9abe40"
      },
      "source": [
        "A = np.array([1.2e-6, 1.7e-7])\n",
        "np.set_printoptions(precision=8,suppress=True)\n",
        "A"
      ],
      "execution_count": 37,
      "outputs": [
        {
          "output_type": "execute_result",
          "data": {
            "text/plain": [
              "array([0.0000012 , 0.00000017])"
            ]
          },
          "metadata": {},
          "execution_count": 37
        }
      ]
    },
    {
      "cell_type": "markdown",
      "metadata": {
        "id": "TXUd_4631-gw"
      },
      "source": [
        "### <a name='8'></a> Exercise 58\n",
        "The following numpy array $ A $ is given:\n",
        "```\n",
        "A = np.random.randn(8, 4)\n",
        "```\n",
        "Remove the third column from the $ A $ array.\n",
        "\n",
        "__Expected result:__\n",
        "```\n",
        "array([[-0.55692881, -0.66003196,  0.70856031],\n",
        "       [ 0.22378737, -0.19796576, -0.16889332],\n",
        "       [ 0.26062786,  0.29865445, -0.92259267],\n",
        "       [-2.40317659,  1.79961876, -1.96495796],\n",
        "       [ 0.13051561, -1.7085185 ,  0.54885043],\n",
        "       [ 1.77268727,  0.38751181, -0.05141955],\n",
        "       [-1.80858596, -0.45075211,  0.15332866],\n",
        "       [ 1.94218961, -1.93679529, -1.83350954]])\n",
        "```\n",
        "__Tip:__ Use the _np.delete()_ function.\n"
      ]
    },
    {
      "cell_type": "code",
      "metadata": {
        "id": "B7og-S7tVru7",
        "colab": {
          "base_uri": "https://localhost:8080/"
        },
        "outputId": "fca3f3e3-66f0-42d0-e19d-1c5c8c056556"
      },
      "source": [
        "A = np.random.randn(8, 4)\n",
        "np.delete(A,3,axis=1)"
      ],
      "execution_count": 40,
      "outputs": [
        {
          "output_type": "execute_result",
          "data": {
            "text/plain": [
              "array([[ 0.98093065, -0.08992931, -0.99417821],\n",
              "       [ 1.23273153, -1.06083934, -0.01677085],\n",
              "       [ 0.17205011, -0.58066333, -0.64746487],\n",
              "       [-0.20648043, -0.05721166, -0.00619213],\n",
              "       [-0.55645042, -0.59812776, -0.03612893],\n",
              "       [-0.87490409,  1.18979826,  0.18279788],\n",
              "       [ 1.11285311,  1.21401199, -0.93481982],\n",
              "       [ 1.93125208, -0.39512564,  0.44415651]])"
            ]
          },
          "metadata": {},
          "execution_count": 40
        }
      ]
    },
    {
      "cell_type": "markdown",
      "metadata": {
        "id": "tgI6xEn-2AQo"
      },
      "source": [
        "### <a name='9'></a> Exercise 59\n",
        "\n",
        "A one-dimensional array $ v $ (vector) is given:\n",
        "\n",
        "```\n",
        "v = np.array([3, 4, -2])\n",
        "```\n",
        "Calculate the norm of the vetor $ v $.\n"
      ]
    },
    {
      "cell_type": "code",
      "metadata": {
        "id": "A-FzLuaOV2Ck",
        "colab": {
          "base_uri": "https://localhost:8080/"
        },
        "outputId": "27932c81-1fab-4167-9e20-1e4ff66e9490"
      },
      "source": [
        "v = np.array([3, 4, -2])\n",
        "np.linalg.norm(v)"
      ],
      "execution_count": 41,
      "outputs": [
        {
          "output_type": "execute_result",
          "data": {
            "text/plain": [
              "5.385164807134504"
            ]
          },
          "metadata": {},
          "execution_count": 41
        }
      ]
    },
    {
      "cell_type": "markdown",
      "metadata": {
        "id": "wxhpf-uq2B1I"
      },
      "source": [
        "### <a name='10'></a> Exercise 60\n",
        "An example $ A $ array is given below:\n",
        "\n",
        "```\n",
        "A = np.random.randint(10, size=(100, 30))\n",
        "```\n",
        "Set the numpy library option to print 10 edge elements. Print the array $ A $.\n"
      ]
    },
    {
      "cell_type": "code",
      "metadata": {
        "id": "YFc0KW6URsuc",
        "colab": {
          "base_uri": "https://localhost:8080/"
        },
        "outputId": "6485ffbe-0bb7-47a5-a37b-0eeb9477a4c1"
      },
      "source": [
        "A = np.random.randint(10, size=(100, 30))\n",
        "np.set_printoptions(edgeitems=10)\n",
        "A"
      ],
      "execution_count": 43,
      "outputs": [
        {
          "output_type": "execute_result",
          "data": {
            "text/plain": [
              "array([[2, 5, 3, 6, 3, 0, 0, 9, 2, 9, ..., 0, 6, 3, 2, 4, 8, 5, 8, 8, 8],\n",
              "       [9, 5, 5, 3, 6, 9, 4, 0, 7, 3, ..., 5, 6, 3, 2, 8, 8, 6, 5, 7, 8],\n",
              "       [7, 1, 9, 0, 5, 5, 2, 4, 1, 5, ..., 3, 1, 5, 9, 1, 8, 5, 2, 3, 7],\n",
              "       [5, 6, 1, 1, 4, 4, 6, 3, 5, 5, ..., 0, 2, 4, 2, 7, 3, 6, 9, 7, 1],\n",
              "       [7, 2, 7, 7, 3, 4, 8, 3, 1, 8, ..., 7, 5, 1, 3, 9, 4, 4, 0, 0, 6],\n",
              "       [2, 3, 4, 5, 7, 8, 6, 5, 3, 4, ..., 3, 7, 0, 6, 8, 6, 8, 8, 9, 6],\n",
              "       [3, 0, 7, 6, 8, 8, 9, 7, 1, 0, ..., 6, 6, 4, 6, 7, 7, 6, 5, 7, 3],\n",
              "       [3, 1, 6, 3, 8, 0, 9, 4, 8, 9, ..., 2, 9, 6, 5, 0, 5, 7, 7, 4, 3],\n",
              "       [8, 7, 9, 3, 5, 2, 1, 5, 7, 3, ..., 4, 0, 7, 9, 9, 0, 7, 6, 2, 6],\n",
              "       [4, 4, 7, 8, 8, 5, 9, 8, 3, 3, ..., 7, 6, 1, 5, 9, 7, 9, 6, 5, 4],\n",
              "       ...,\n",
              "       [2, 5, 9, 1, 9, 9, 4, 4, 9, 0, ..., 9, 8, 8, 5, 2, 3, 2, 1, 9, 4],\n",
              "       [5, 0, 7, 9, 2, 0, 5, 2, 0, 2, ..., 2, 8, 5, 0, 1, 7, 4, 0, 2, 5],\n",
              "       [1, 8, 0, 7, 2, 3, 9, 2, 2, 5, ..., 2, 2, 4, 3, 3, 2, 2, 6, 8, 5],\n",
              "       [0, 0, 0, 2, 9, 4, 6, 3, 6, 5, ..., 0, 3, 2, 1, 5, 5, 7, 4, 0, 0],\n",
              "       [4, 7, 9, 6, 4, 4, 2, 9, 3, 5, ..., 7, 1, 4, 1, 8, 5, 9, 0, 5, 0],\n",
              "       [8, 1, 1, 3, 6, 0, 1, 5, 4, 7, ..., 7, 6, 0, 1, 8, 9, 7, 1, 3, 9],\n",
              "       [4, 3, 6, 0, 5, 7, 1, 1, 5, 3, ..., 1, 3, 6, 9, 7, 1, 5, 9, 2, 8],\n",
              "       [1, 9, 6, 9, 3, 2, 1, 1, 0, 0, ..., 8, 9, 7, 2, 6, 1, 8, 4, 1, 0],\n",
              "       [7, 9, 4, 1, 6, 2, 2, 1, 6, 4, ..., 9, 9, 8, 9, 3, 2, 9, 7, 1, 4],\n",
              "       [2, 6, 1, 6, 2, 9, 9, 7, 4, 8, ..., 8, 2, 3, 3, 4, 7, 4, 7, 2, 8]])"
            ]
          },
          "metadata": {},
          "execution_count": 43
        }
      ]
    }
  ]
}